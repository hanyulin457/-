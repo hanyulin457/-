{
  "cells": [
    {
      "cell_type": "markdown",
      "metadata": {
        "id": "cgnAmFg13ks4"
      },
      "source": [
        "## **Traditional (Syndrome Decoding)**"
      ]
    },
    {
      "cell_type": "markdown",
      "metadata": {
        "id": "wLwaQonO4AdG"
      },
      "source": [
        "# Loading Libraries"
      ]
    },
    {
      "cell_type": "code",
      "execution_count": 31,
      "metadata": {
        "id": "QhV6TvpV4Yob"
      },
      "outputs": [],
      "source": [
        "import numpy as np\n",
        "import pandas as pd\n",
        "import matplotlib.pyplot as plt"
      ]
    },
    {
      "cell_type": "markdown",
      "metadata": {
        "id": "UtdreW8t4aou"
      },
      "source": [
        "# Loading codebook file"
      ]
    },
    {
      "cell_type": "markdown",
      "metadata": {
        "id": "rDUexVXe6kj4"
      },
      "source": [
        "Loading codebook file from the generated codewords and we separate the data to codeword and message."
      ]
    },
    {
      "cell_type": "code",
      "execution_count": 32,
      "metadata": {
        "id": "CeYTFOoF4q57"
      },
      "outputs": [],
      "source": [
        "def load_codebook(fname):\n",
        "  df = pd.read_csv(fname)\n",
        "  y = df[[\"x0\", \"x1\", \"x2\", \"x3\", \"x4\", \"x5\", \"x6\"]].values\n",
        "  m = df[[\"m0\", \"m1\", \"m2\", \"m3\"]].values\n",
        "  file_size = y.shape[0]\n",
        "  return y, m, file_size"
      ]
    },
    {
      "cell_type": "markdown",
      "metadata": {
        "id": "iSjvwb3I3wLT"
      },
      "source": [
        "# Hard decision"
      ]
    },
    {
      "cell_type": "markdown",
      "metadata": {
        "id": "DJlW5Bmi321y"
      },
      "source": [
        "After we receive the signal, we first do the hard decision. If the signal is greater than the threshold, we say it is 1 and if the signal is smaller than the threshold it is 0."
      ]
    },
    {
      "cell_type": "code",
      "execution_count": 33,
      "metadata": {
        "id": "qLYjxniv3UV2"
      },
      "outputs": [],
      "source": [
        "def hard_decision(y):\n",
        "  # type your own code\n",
        "  # Set the hard decision threshold\n",
        "  # Detect the signal and return m_hat\n",
        "  \n",
        "  # Set the hard decision threshold\n",
        "  threshold = 0\n",
        "\n",
        "  # Detect the signal and return m_hat\n",
        "  d = np.where(y > threshold, 1, 0)\n",
        "  return d"
      ]
    },
    {
      "cell_type": "markdown",
      "metadata": {
        "id": "v8JlW6Ry7PrE"
      },
      "source": [
        "# Syndrome Decoding"
      ]
    },
    {
      "cell_type": "markdown",
      "metadata": {
        "id": "rUNERZ2B7WqM"
      },
      "source": [
        "We use the defined H to find out the syndrome of each codeword. After error correction, we can get the recoevered message."
      ]
    },
    {
      "cell_type": "code",
      "execution_count": 48,
      "metadata": {
        "id": "Vsg_hkaQ71LH"
      },
      "outputs": [],
      "source": [
        "def syndrome_decode(d):\n",
        "  # type your own code\n",
        "  # define the parity check matrix H\n",
        "  H = np.array([[1, 1, 0, 1, 1, 0, 0],\n",
        "                [1, 0, 1, 1, 0, 1, 0],\n",
        "                [0, 1, 1, 1, 0, 0, 1]])\n",
        "\n",
        "  \n",
        "  # get the syndrome\n",
        "  S = np.mod(np.dot(d, H.T), 2)\n",
        "\n",
        "  # build a mapping function between syndrome and error pattern\n",
        "  syndrome_dict = {(0, 0, 0): np.zeros(7, dtype=int),\n",
        "                   (0, 0, 1): np.array([0, 0, 0, 0, 0, 0, 1]),\n",
        "                   (0, 1, 0): np.array([0, 0, 0, 0, 0, 1, 0]),\n",
        "                   (0, 1, 1): np.array([0, 0, 1, 0, 0, 0, 0]),\n",
        "                   (1, 0, 0): np.array([0, 0, 0, 0, 1, 0, 0]),\n",
        "                   (1, 0, 1): np.array([0, 1, 0, 0, 0, 0, 0]),\n",
        "                   (1, 1, 0): np.array([1, 0, 0, 0, 0, 0, 0]),\n",
        "                   (1, 1, 1): np.array([0, 0, 0, 1, 0, 0, 0])}\n",
        "\n",
        "  # Apply the mapping function to each syndrome\n",
        "  e_hat = np.array([syndrome_dict[tuple(s)] for s in S])\n",
        "\n",
        "  # Add the error pattern to the received signal to get the decoded codewords\n",
        "  C = np.mod(d + e_hat, 2)\n",
        "\n",
        "  # Get the message from the decoded codewords\n",
        "  M = C[:, 0:4]\n",
        "\n",
        "  return M"
      ]
    },
    {
      "cell_type": "markdown",
      "metadata": {
        "id": "NWqAsW3BN-qt"
      },
      "source": [
        "# Performance Evaluation"
      ]
    },
    {
      "cell_type": "markdown",
      "metadata": {
        "id": "3MKAVyqZ_HX6"
      },
      "source": [
        "We go through all signals to calculate the bit error rate.\n",
        "\n",
        "P.S. output the number of elements of error bits"
      ]
    },
    {
      "cell_type": "code",
      "execution_count": 39,
      "metadata": {
        "id": "IKrI7BYeAAot"
      },
      "outputs": [],
      "source": [
        "def calculate_error(m_hat,m):\n",
        "  # type your own code\n",
        "  # Find out all the error elements to get BER\n",
        "  # Calculate block errors\n",
        "  block_err = np.count_nonzero(np.any(m_hat != m, axis=1))\n",
        "\n",
        "  # Calculate bit errors\n",
        "  bit_err = np.sum(m != m_hat)\n",
        "  return block_err, bit_err\n"
      ]
    },
    {
      "cell_type": "markdown",
      "metadata": {
        "id": "RFMBbaFGOCDg"
      },
      "source": [
        "# Main Function"
      ]
    },
    {
      "cell_type": "code",
      "execution_count": 49,
      "metadata": {
        "colab": {
          "base_uri": "https://localhost:8080/",
          "height": 876
        },
        "id": "obPI7U5SPJdw",
        "outputId": "f5149c42-dfcf-4433-e6ac-4f2855234556"
      },
      "outputs": [
        {
          "name": "stdout",
          "output_type": "stream",
          "text": [
            "0 / 8\n",
            "1 / 8\n",
            "2 / 8\n",
            "3 / 8\n",
            "4 / 8\n",
            "5 / 8\n",
            "6 / 8\n",
            "7 / 8\n",
            "8 / 8\n"
          ]
        },
        {
          "data": {
            "image/png": "[encoded data removed]",
            "text/plain": [
              "<Figure size 432x288 with 1 Axes>"
            ]
          },
          "metadata": {
            "needs_background": "light"
          },
          "output_type": "display_data"
        },
        {
          "name": "stdout",
          "output_type": "stream",
          "text": [
            "Bit Error Rate: [1.233750e-01 8.212500e-02 5.056250e-02 2.937500e-02 1.572500e-02\n",
            " 6.843750e-03 2.365000e-03 6.212500e-04 1.216875e-04]\n"
          ]
        },
        {
          "data": {
            "image/png": "[encoded data removed]",
            "text/plain": [
              "<Figure size 432x288 with 1 Axes>"
            ]
          },
          "metadata": {
            "needs_background": "light"
          },
          "output_type": "display_data"
        },
        {
          "name": "stdout",
          "output_type": "stream",
          "text": [
            "Symbol Error Rate: [0.26725  0.187    0.114    0.068    0.036375 0.01578  0.005475 0.00147\n",
            " 0.000282]\n"
          ]
        }
      ],
      "source": [
        "# SNR setting\n",
        "SNR_start = 0\n",
        "SNR_end = 8\n",
        "step_size = 1\n",
        "SNR = np.arange(SNR_start,SNR_end+1,step_size)\n",
        "length_SNR = len(SNR)\n",
        "BLER = np.zeros(length_SNR)\n",
        "BER = np.zeros(length_SNR)\n",
        "# main\n",
        "for i in range(length_SNR):\n",
        "  fname = \"codeword_file_SNR=\"+str(SNR[i])+\".csv\"\n",
        "\n",
        "  # type your own code (apply the defined function)\n",
        "  # load codeword\n",
        "  y, m, file_size = load_codebook(fname)\n",
        "\n",
        "  # hard decision\n",
        "  d = hard_decision(y)\n",
        "\n",
        "  # syndrome decoding\n",
        "  m_hat = syndrome_decode(d)\n",
        "  \n",
        "  # calculate error\n",
        "  block_err, bit_err = calculate_error(m_hat, m)\n",
        "\n",
        "  BER[i] = bit_err/4.0/file_size\n",
        "  BLER[i] = block_err/file_size\n",
        "  print(i,\"/\",len(SNR)-1)\n",
        "# Fig Plot\n",
        "# Compare with uncoded\n",
        "BER_uncoded = [0.07721, 0.05723, 0.03774, 0.02324, 0.01186, 0.00549, 0.00246, 0.00077, 0.00019]\n",
        "EbN0dBs = np.arange(start=SNR_start,stop=SNR_end+1,step=step_size)\n",
        "fig1 = plt.figure()\n",
        "plt.semilogy(EbN0dBs,BER,color='r',marker='o',linestyle='-',label='Syndrome Decoding')\n",
        "plt.semilogy(EbN0dBs,BER_uncoded,color='b',marker='x',linestyle='-',label='Uncoded')\n",
        "plt.xlabel('$E_b/N_0(dB)$');plt.ylabel('BER ($P_b$)')\n",
        "plt.title('Probability of bit error over AWGN channel')\n",
        "plt.xlim(SNR_start,SNR_end);plt.grid(True);\n",
        "plt.legend()\n",
        "plt.show()\n",
        "print(\"Bit Error Rate:\", BER)\n",
        "fig2 = plt.figure()\n",
        "plt.semilogy(EbN0dBs,BLER,color='r',marker='o',linestyle='-',label='Syndrome Decoding')\n",
        "plt.xlabel('$E_b/N_0(dB)$');plt.ylabel('BLER ($P_b$)')\n",
        "plt.title('Probability of block error over AWGN channel')\n",
        "plt.xlim(SNR_start,SNR_end);plt.grid(True);\n",
        "plt.legend()\n",
        "plt.show()\n",
        "print(\"Symbol Error Rate:\", BLER)\n",
        "#print(\"Your name and the date you demo.\")"
      ]
    },
    {
      "cell_type": "code",
      "execution_count": null,
      "metadata": {},
      "outputs": [],
      "source": []
    }
  ],
  "metadata": {
    "colab": {
      "provenance": []
    },
    "kernelspec": {
      "display_name": "Python 3",
      "language": "python",
      "name": "python3"
    },
    "language_info": {
      "codemirror_mode": {
        "name": "ipython",
        "version": 3
      },
      "file_extension": ".py",
      "mimetype": "text/x-python",
      "name": "python",
      "nbconvert_exporter": "python",
      "pygments_lexer": "ipython3",
      "version": "3.10.10"
    },
    "vscode": {
      "interpreter": {
        "hash": "86122193477d46195e29d0a3a92cd4e949aeb5fc0f9ed7061ad702b7cdba52f7"
      }
    }
  },
  "nbformat": 4,
  "nbformat_minor": 0
}
