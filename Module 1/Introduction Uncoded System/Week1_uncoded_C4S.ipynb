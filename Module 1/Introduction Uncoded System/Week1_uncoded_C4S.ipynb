{
  "cells": [
    {
      "cell_type": "markdown",
      "metadata": {
        "id": "IJwJ0SRjFOdf"
      },
      "source": [
        "## **Loading libraries**"
      ]
    },
    {
      "cell_type": "code",
      "execution_count": 108,
      "metadata": {
        "id": "xR1HcrFSPJ-2"
      },
      "outputs": [],
      "source": [
        "import numpy as np\n",
        "import pandas as pd\n",
        "import matplotlib.pyplot as plt"
      ]
    },
    {
      "cell_type": "markdown",
      "metadata": {
        "id": "hiIhr4F4FvpY"
      },
      "source": [
        "## Generate random signal"
      ]
    },
    {
      "cell_type": "code",
      "execution_count": 109,
      "metadata": {
        "id": "Yb0egXk5PNSK"
      },
      "outputs": [],
      "source": [
        "def generate_message(data_size):\n",
        "  m = np.array(np.random.randint(0, 2, size=data_size))\n",
        "  return m"
      ]
    },
    {
      "cell_type": "markdown",
      "metadata": {
        "id": "AYY51BPLFc4g"
      },
      "source": [
        "## Modulation (BPSK)"
      ]
    },
    {
      "cell_type": "code",
      "execution_count": 116,
      "metadata": {
        "id": "mRTH5_SkPktp"
      },
      "outputs": [],
      "source": [
        "def modulation(c,SNR):\n",
        "  # type your own code\n",
        "  # assign the signal power based on the given SNR\n",
        "  # implement the BPSK modulation\n",
        "  N0 = 1\n",
        "  P = (10 ** (SNR/10) )* N0\n",
        "  x = np.sqrt(P)*(2*c-1)\n",
        "  return x"
      ]
    },
    {
      "cell_type": "markdown",
      "metadata": {
        "id": "nhH-YvJnF8RM"
      },
      "source": [
        "## AWGN Channel"
      ]
    },
    {
      "cell_type": "code",
      "execution_count": 117,
      "metadata": {
        "id": "hm8NkXWcP3mJ"
      },
      "outputs": [],
      "source": [
        "def AWGN_Channel(x):\n",
        "  # assign the normalized noise\n",
        "  # return the receive signal y by transmitted signal x plus the noise n\n",
        "  N0 = 1\n",
        "  sigma = np.sqrt(N0/2)\n",
        "  w = np.random.normal(0, sigma, x.shape)\n",
        "  y = x + w\n",
        "  return y"
      ]
    },
    {
      "cell_type": "markdown",
      "metadata": {
        "id": "lUHaTgOFGLms"
      },
      "source": [
        "# Hard decision"
      ]
    },
    {
      "cell_type": "markdown",
      "metadata": {
        "id": "UfwnMB4TGNmg"
      },
      "source": [
        "After we receive the signal, we first do the hard decision. If the signal is greater than the threshold, we say it is 1 and if the signal is smaller than the threshold it is 0."
      ]
    },
    {
      "cell_type": "code",
      "execution_count": 112,
      "metadata": {
        "id": "k2d6xW-onRwP"
      },
      "outputs": [],
      "source": [
        "def hard_decision(y):\n",
        "  # type your own code\n",
        "  # Set the hard decision threshold\n",
        "  # Detect the signal and return m_hat\n",
        "  threshold = 0\n",
        "  m_hat = np.zeros_like(y)\n",
        "  m_hat[y >= threshold] = 1\n",
        "  m_hat[y < threshold] = 0\n",
        "  return m_hat"
      ]
    },
    {
      "cell_type": "markdown",
      "metadata": {
        "id": "gq8nCGGzGRvj"
      },
      "source": [
        "## Performance evaluation"
      ]
    },
    {
      "cell_type": "markdown",
      "metadata": {
        "id": "p0qNnZbKGUcc"
      },
      "source": [
        "We go through all signals to calculate the bit error rate.\n",
        "\n",
        "P.S. output the number of elements of error bits"
      ]
    },
    {
      "cell_type": "code",
      "execution_count": 119,
      "metadata": {
        "id": "oAezwwr7nVxy"
      },
      "outputs": [],
      "source": [
        "def calculate_error(m_hat,m):\n",
        "  # type your own code\n",
        "  # Find out all the error elements to get BER\n",
        "  bit_err = np.sum(m != m_hat)\n",
        "\n",
        "  return bit_err"
      ]
    },
    {
      "cell_type": "markdown",
      "metadata": {
        "id": "YFkO_YcYGcAb"
      },
      "source": [
        "## Main function"
      ]
    },
    {
      "cell_type": "code",
      "execution_count": 120,
      "metadata": {
        "colab": {
          "base_uri": "https://localhost:8080/",
          "height": 473
        },
        "id": "OthVWP1PP5pl",
        "outputId": "572328b0-29e3-412f-fe57-4a4583933c27"
      },
      "outputs": [
        {
          "name": "stdout",
          "output_type": "stream",
          "text": [
            "0 / 8\n",
            "1 / 8\n",
            "2 / 8\n",
            "3 / 8\n",
            "4 / 8\n",
            "5 / 8\n",
            "6 / 8\n",
            "7 / 8\n",
            "8 / 8\n"
          ]
        },
        {
          "data": {
            "image/png": "[encoded data removed]",
            "text/plain": [
              "<Figure size 432x288 with 1 Axes>"
            ]
          },
          "metadata": {
            "needs_background": "light"
          },
          "output_type": "display_data"
        },
        {
          "name": "stdout",
          "output_type": "stream",
          "text": [
            "Bit Error Rate: [0.07932 0.05709 0.03787 0.02288 0.01266 0.00604 0.00254 0.00071 0.0002 ]\n"
          ]
        }
      ],
      "source": [
        "SNR_start = 0\n",
        "SNR_end = 8\n",
        "step_size = 1\n",
        "SNR = np.arange(SNR_start,SNR_end+1,step_size)\n",
        "length_SNR = len(SNR)\n",
        "BER = np.zeros(length_SNR)\n",
        "data_size = 100000\n",
        "\n",
        "for i in range(len(SNR)):\n",
        "  \n",
        "  # Type your own code\n",
        "  # Call the functions above\n",
        "  m = generate_message(data_size)\n",
        "  x = modulation(m, SNR[i])\n",
        "  y = AWGN_Channel(x)\n",
        "  m_hat = hard_decision(y)\n",
        "  bit_err = calculate_error(m_hat, m)\n",
        "\n",
        "  BER[i] = bit_err/data_size\n",
        "  print(i,\"/\",len(SNR)-1)\n",
        "  # Fig Plot\n",
        "  \n",
        "EbN0dBs = np.arange(start=SNR_start,stop=SNR_end+1,step=step_size)\n",
        "fig1 = plt.figure()\n",
        "plt.semilogy(EbN0dBs,BER,color='r',marker='o',linestyle='-',label='Uncoded Transmission')\n",
        "plt.xlabel('$E_b/N_0(dB)$');plt.ylabel('BER ($P_b$)')\n",
        "plt.title('Probability of bit error over AWGN channel')\n",
        "plt.xlim(SNR_start,SNR_end);plt.grid(True);\n",
        "plt.legend()\n",
        "plt.show()\n",
        "print(\"Bit Error Rate:\", BER)"
      ]
    }
  ],
  "metadata": {
    "colab": {
      "provenance": []
    },
    "kernelspec": {
      "display_name": "base",
      "language": "python",
      "name": "python3"
    },
    "language_info": {
      "codemirror_mode": {
        "name": "ipython",
        "version": 3
      },
      "file_extension": ".py",
      "mimetype": "text/x-python",
      "name": "python",
      "nbconvert_exporter": "python",
      "pygments_lexer": "ipython3",
      "version": "3.9.12"
    },
    "vscode": {
      "interpreter": {
        "hash": "f08154012ddadd8e950e6e9e035c7a7b32c136e7647e9b7c77e02eb723a8bedb"
      }
    }
  },
  "nbformat": 4,
  "nbformat_minor": 0
}
