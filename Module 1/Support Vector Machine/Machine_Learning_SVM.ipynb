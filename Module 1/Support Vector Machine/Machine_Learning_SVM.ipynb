{
  "nbformat": 4,
  "nbformat_minor": 0,
  "metadata": {
    "accelerator": "TPU",
    "colab": {
      "provenance": []
    },
    "kernelspec": {
      "display_name": "Python 3",
      "name": "python3"
    },
    "language_info": {
      "name": "python"
    }
  },
  "cells": [
    {
      "cell_type": "markdown",
      "metadata": {
        "id": "Pz6YQM8NMh21"
      },
      "source": [
        "## **Machine Learning (Support Vector Machine)**"
      ]
    },
    {
      "cell_type": "markdown",
      "metadata": {
        "id": "zwaOVbycMt5T"
      },
      "source": [
        "# Loading Libraries"
      ]
    },
    {
      "cell_type": "code",
      "metadata": {
        "id": "IxhvVqLAMsQR"
      },
      "source": [
        "import numpy as np\n",
        "import pandas as pd\n",
        "import matplotlib.pyplot as plt\n",
        "#from sklearn import svm\n",
        "from sklearn.svm import SVC"
      ],
      "execution_count": null,
      "outputs": []
    },
    {
      "cell_type": "markdown",
      "metadata": {
        "id": "dGBgnuScNLrV"
      },
      "source": [
        "# Loading codebook file"
      ]
    },
    {
      "cell_type": "code",
      "metadata": {
        "id": "0-Sp9l9GNP9R"
      },
      "source": [
        "def load_codebook(fname):\n",
        "  df = pd.read_csv(fname)\n",
        "  y = df[[\"x0\", \"x1\", \"x2\", \"x3\", \"x4\", \"x5\", \"x6\"]].values\n",
        "  m = df[[\"m0\", \"m1\", \"m2\", \"m3\"]].values\n",
        "  file_size = y.shape[0]\n",
        "  m_modified = np.zeros(file_size)\n",
        "  for i in range(file_size):\n",
        "    m_modified[i] += m[i,0]*8+m[i,1]*4+m[i,2]*2+m[i,3]*1\n",
        "  return y, m_modified, file_size"
      ],
      "execution_count": null,
      "outputs": []
    },
    {
      "cell_type": "markdown",
      "metadata": {
        "id": "qEgC0NQMvbHI"
      },
      "source": [
        "# Split data"
      ]
    },
    {
      "cell_type": "markdown",
      "metadata": {
        "id": "6xFehaJ5QDDh"
      },
      "source": [
        "Splitting data into training and testing"
      ]
    },
    {
      "cell_type": "code",
      "metadata": {
        "id": "XUqyqaQUQjuT"
      },
      "source": [
        "def splitting_data(y,m,rate,file_size):\n",
        "  train_size = round(file_size*rate)\n",
        "  test_size = file_size - train_size\n",
        "  train_y = y[0:train_size,:]\n",
        "  train_m = m[0:train_size]\n",
        "  test_y = y[train_size:file_size,:]\n",
        "  test_m = m[train_size:file_size]\n",
        "  return train_y, train_m, test_y, test_m, train_size, test_size\n"
      ],
      "execution_count": null,
      "outputs": []
    },
    {
      "cell_type": "markdown",
      "metadata": {
        "id": "Ap02m4enOTpa"
      },
      "source": [
        "# Support Vector Machine"
      ]
    },
    {
      "cell_type": "code",
      "metadata": {
        "id": "0a3Z63fxRI9h"
      },
      "source": [
        "def SVM(data, target, class0, class1, kernel_type):\n",
        "  idx = []\n",
        "  dataset = []\n",
        "  targetset = []\n",
        "  for i in range(len(data)):\n",
        "      if target[i] == class0 or target[i] == class1:\n",
        "          idx.append(i)\n",
        "          dataset.append(data[i])\n",
        "          if target[i] == class0:\n",
        "              targetset.append(-1)\n",
        "          else:\n",
        "              targetset.append(1)\n",
        "  clf = SVC(kernel=kernel_type)\n",
        "  clf.fit(dataset, targetset)\n",
        "  alpha = clf.dual_coef_\n",
        "  w0 = clf.intercept_\n",
        "  sv = clf.support_vectors_\n",
        "  w = np.dot(alpha, sv)\n",
        "  return w, w0"
      ],
      "execution_count": null,
      "outputs": []
    },
    {
      "cell_type": "markdown",
      "metadata": {
        "id": "CgdHOZRcG_Tu"
      },
      "source": [
        "# Predict Function"
      ]
    },
    {
      "cell_type": "code",
      "metadata": {
        "id": "-yTBNzbcTyfm"
      },
      "source": [
        "def predict_function(data, class0, class1, w, w0, cal_class, dist, data_size):\n",
        "  for i in range(data_size):\n",
        "    g = np.dot(w, data[i].T) + w0\n",
        "    if g < 0:\n",
        "        cal_class[i,class0] += 1\n",
        "        if abs(g) > dist[i,class0]:\n",
        "            dist[i,class0] = abs(g)\n",
        "    else:\n",
        "        cal_class[i,class1] += 1\n",
        "        if abs(g) > dist[i,class1]:\n",
        "            dist[i,class1] = abs(g)\n",
        "  return cal_class, dist"
      ],
      "execution_count": null,
      "outputs": []
    },
    {
      "cell_type": "markdown",
      "metadata": {
        "id": "OKHIjkByA1Wv"
      },
      "source": [
        "# ClassMapping"
      ]
    },
    {
      "cell_type": "code",
      "metadata": {
        "id": "P5nRRAm1A6Ni"
      },
      "source": [
        "def class_mapping(cal_class, dist, data_size):\n",
        "  class_hat = np.zeros(data_size)\n",
        "  m_hat = np.zeros((data_size,4))\n",
        "  for i in range(data_size):\n",
        "    # determine is there classes have same vote\n",
        "    tmp = cal_class[i]\n",
        "    num_of_max_term = len(tmp[tmp==np.max(tmp)])\n",
        "    # get the most votes message\n",
        "    if num_of_max_term == 1:\n",
        "      class_hat[i] = np.argmax(tmp)\n",
        "    # check the distance to get the most votes message\n",
        "    else:\n",
        "      tmp_dist = dist[i]\n",
        "      class_hat[i] = np.argmax(tmp_dist)\n",
        "    # transform class to message\n",
        "    m_hat[i,0] = class_hat[i]//8\n",
        "    m_hat[i,1] = (class_hat[i]-m_hat[i,0]*8)//4\n",
        "    m_hat[i,2] = (class_hat[i]-m_hat[i,0]*8-m_hat[i,1]*4)//2\n",
        "    m_hat[i,3] = class_hat[i]-m_hat[i,0]*8-m_hat[i,1]*4-m_hat[i,2]*2\n",
        "  return m_hat"
      ],
      "execution_count": null,
      "outputs": []
    },
    {
      "cell_type": "markdown",
      "metadata": {
        "id": "S3cOplmILUOe"
      },
      "source": [
        "# Calculate Error"
      ]
    },
    {
      "cell_type": "code",
      "metadata": {
        "id": "rl6bvzrRLWq4"
      },
      "source": [
        "def calculate_error(m_hat,m_class,file_size):\n",
        "  block_err = 0\n",
        "  bit_err = 0\n",
        "  for i in range(file_size):\n",
        "    m = np.zeros(4)\n",
        "    # transform class to message\n",
        "    m[0] = m_class[i]//8\n",
        "    m[1] = (m_class[i]-m[0]*8)//4\n",
        "    m[2] = (m_class[i]-m[0]*8-m[1]*4)//2\n",
        "    m[3] = m_class[i]-m[0]*8-m[1]*4-m[2]*2\n",
        "    if (m_hat[i,:] != m).any():\n",
        "      block_err += 1\n",
        "    for j in range(4):\n",
        "      if m_hat[i,j] != m[j]:\n",
        "        bit_err += 1\n",
        "  return block_err, bit_err"
      ],
      "execution_count": null,
      "outputs": []
    },
    {
      "cell_type": "markdown",
      "metadata": {
        "id": "tCxuW40oQ0aY"
      },
      "source": [
        "# Main Function"
      ]
    },
    {
      "cell_type": "code",
      "metadata": {
        "colab": {
          "base_uri": "https://localhost:8080/",
          "height": 794
        },
        "id": "3dwT_xlkQ2WY",
        "outputId": "e5a8b764-0bd7-4e6a-f793-6bc3f357d210"
      },
      "source": [
        "SNR_start = 1\n",
        "SNR_end = 7\n",
        "step_size = 1\n",
        "SNR = np.arange(SNR_start,SNR_end+1,step_size)\n",
        "length_SNR = len(SNR)\n",
        "BLER = np.zeros(length_SNR)\n",
        "BER = np.zeros(length_SNR)\n",
        "rate = 0.5 # training data rate\n",
        "for i in range(length_SNR):\n",
        "  fname = \"codeword_file_SNR=\"+str(SNR[i])+\".csv\"\n",
        "  [y,m,file_size] = load_codebook(fname)\n",
        "  [train_y,train_m,test_y,test_m,train_size,test_size] = splitting_data(y,m,rate,file_size)\n",
        "  kernel_linear = 'linear'\n",
        "  cal_class = np.zeros((test_size,16))\n",
        "  dist = np.zeros((test_size,16))\n",
        "  for class0 in range(16):\n",
        "    for class1 in range(class0+1,16):\n",
        "      [w, w0] = SVM(train_y, train_m, class0, class1, kernel_linear)\n",
        "      [cal_class, dist] = predict_function(test_y, class0, class1, w, w0, cal_class, dist, test_size)\n",
        "  m_hat = class_mapping(cal_class, dist, test_size)\n",
        "  [block_err, bit_err] = calculate_error(m_hat,test_m, test_size)\n",
        "  BER[i] = bit_err/4/test_size\n",
        "  BLER[i] = block_err/test_size\n",
        "  print(i,\"/\",len(SNR)-1)\n",
        "# Fig plot\n",
        "EbN0dBs = np.arange(start=SNR_start,stop=SNR_end+1,step=step_size)\n",
        "fig1 = plt.figure()\n",
        "plt.semilogy(EbN0dBs,BER,color='r',marker='o',linestyle='-',label='Support Vector Machine')\n",
        "plt.xlabel('$E_b/N_0(dB)$');plt.ylabel('BER ($P_b$)')\n",
        "plt.title('Probability of bit error over AWGN channel')\n",
        "plt.xlim(SNR_start,SNR_end);plt.grid(True);\n",
        "plt.legend()\n",
        "plt.show()\n",
        "print(\"Bit Error Rate:\", BER)\n",
        "fig2 = plt.figure()\n",
        "plt.semilogy(EbN0dBs,BLER,color='r',marker='o',linestyle='-',label='Support Vector Machine')\n",
        "plt.xlabel('$E_b/N_0(dB)$');plt.ylabel('BLER ($P_b$)')\n",
        "plt.title('Probability of block error over AWGN channel')\n",
        "plt.xlim(SNR_start,SNR_end);plt.grid(True);\n",
        "plt.legend()\n",
        "plt.show()\n",
        "print(\"Block Error Rate:\", BLER)\n",
        "print(\"Compile by TA\")\n",
        "  "
      ],
      "execution_count": null,
      "outputs": [
        {
          "output_type": "stream",
          "name": "stdout",
          "text": [
            "0 / 6\n",
            "1 / 6\n",
            "2 / 6\n",
            "3 / 6\n",
            "4 / 6\n",
            "5 / 6\n",
            "6 / 6\n"
          ]
        },
        {
          "output_type": "display_data",
          "data": {
            "text/plain": [
              "<Figure size 432x288 with 1 Axes>"
            ],
            "image/png": "[encoded data removed]"
          },
          "metadata": {
            "needs_background": "light"
          }
        },
        {
          "output_type": "stream",
          "name": "stdout",
          "text": [
            "Bit Error Rate: [0.06225    0.035375   0.02025    0.00626374 0.00275597 0.00074675\n",
            " 0.00015463]\n"
          ]
        },
        {
          "output_type": "display_data",
          "data": {
            "text/plain": [
              "<Figure size 432x288 with 1 Axes>"
            ],
            "image/png": "[encoded data removed]"
          },
          "metadata": {
            "needs_background": "light"
          }
        },
        {
          "output_type": "stream",
          "name": "stdout",
          "text": [
            "Block Error Rate: [0.1335     0.0755     0.046      0.01411874 0.00559852 0.00165545\n",
            " 0.00035343]\n",
            "Compile by TA\n"
          ]
        }
      ]
    }
  ]
}