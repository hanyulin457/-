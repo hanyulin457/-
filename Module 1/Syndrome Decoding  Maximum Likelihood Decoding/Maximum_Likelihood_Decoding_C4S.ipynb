{
  "cells": [
    {
      "cell_type": "markdown",
      "metadata": {
        "id": "cgnAmFg13ks4"
      },
      "source": [
        "## **Traditional (Maximum Likelihood Decoding)**"
      ]
    },
    {
      "cell_type": "markdown",
      "metadata": {
        "id": "wLwaQonO4AdG"
      },
      "source": [
        "# Loading Libraries"
      ]
    },
    {
      "cell_type": "code",
      "execution_count": 2,
      "metadata": {
        "id": "QhV6TvpV4Yob"
      },
      "outputs": [],
      "source": [
        "import numpy as np\n",
        "import pandas as pd\n",
        "import matplotlib.pyplot as plt"
      ]
    },
    {
      "cell_type": "markdown",
      "metadata": {
        "id": "UtdreW8t4aou"
      },
      "source": [
        "# Loading codebook file"
      ]
    },
    {
      "cell_type": "markdown",
      "metadata": {
        "id": "rDUexVXe6kj4"
      },
      "source": [
        "Loading codebook file from the generated codewords and we separate the data to codeword and message."
      ]
    },
    {
      "cell_type": "code",
      "execution_count": 3,
      "metadata": {
        "id": "CeYTFOoF4q57"
      },
      "outputs": [],
      "source": [
        "def load_codebook(fname):\n",
        "  df = pd.read_csv(fname)\n",
        "  y = df[[\"x0\", \"x1\", \"x2\", \"x3\", \"x4\", \"x5\", \"x6\"]].values\n",
        "  m = df[[\"m0\", \"m1\", \"m2\", \"m3\"]].values\n",
        "  file_size = y.shape[0]\n",
        "  return y, m, file_size"
      ]
    },
    {
      "cell_type": "markdown",
      "metadata": {
        "id": "v8JlW6Ry7PrE"
      },
      "source": [
        "# Maximum Likelihood Decoding"
      ]
    },
    {
      "cell_type": "markdown",
      "metadata": {
        "id": "rUNERZ2B7WqM"
      },
      "source": [
        "We first generate the all possible codewords by the generator matrix. Next, we calculate the norm between received codeword and all possible codeword. We make the decision (m_hat) by choosing the one with minimum norm."
      ]
    },
    {
      "cell_type": "code",
      "execution_count": 9,
      "metadata": {
        "id": "Vsg_hkaQ71LH"
      },
      "outputs": [],
      "source": [
        "def ML_decode(y):\n",
        "  # type your own code\n",
        "  # construct generator matrix\n",
        "  G = np.array([[1, 0, 0, 0, 1, 1, 0],\n",
        "                [0, 1, 0, 0, 1, 0, 1],\n",
        "                [0, 0, 1, 0, 0, 1, 1],\n",
        "                [0, 0, 0, 1, 1, 1, 1]])\n",
        "\n",
        "  # construct all possible messages\n",
        "  all_messages = np.array([[0, 0, 0, 0],\n",
        "                           [0, 0, 0, 1],\n",
        "                           [0, 0, 1, 0],\n",
        "                           [0, 0, 1, 1],\n",
        "                           [0, 1, 0, 0],\n",
        "                           [0, 1, 0, 1],\n",
        "                           [0, 1, 1, 0],\n",
        "                           [0, 1, 1, 1],\n",
        "                           [1, 0, 0, 0],\n",
        "                           [1, 0, 0, 1],\n",
        "                           [1, 0, 1, 0],\n",
        "                           [1, 0, 1, 1],\n",
        "                           [1, 1, 0, 0],\n",
        "                           [1, 1, 0, 1],\n",
        "                           [1, 1, 1, 0],\n",
        "                           [1, 1, 1, 1]])\n",
        "                     \n",
        "  # construct all possible codewords\n",
        "  all_codewords = np.mod(np.dot(all_messages, G), 2)\n",
        "  \n",
        "  # map codeword 0, 1 to -1, 1\n",
        "  all_codewords = 2 * all_codewords - 1\n",
        "\n",
        "  # find the codeword with the minimum norm\n",
        "  m_hat = np.zeros((y.shape[0], 4), dtype=int)\n",
        "  \n",
        "  for i in range(y.shape[0]):\n",
        "    min_norm = np.inf\n",
        "    for j in range(all_codewords.shape[0]):\n",
        "      norm = np.linalg.norm(y[i] - all_codewords[j])\n",
        "      if norm < min_norm:\n",
        "        min_norm = norm\n",
        "        m_hat[i] = all_messages[j]\n",
        "          \n",
        "  return m_hat"
      ]
    },
    {
      "cell_type": "markdown",
      "metadata": {
        "id": "3MKAVyqZ_HX6"
      },
      "source": [
        "Next, we compare our recovered signal m_hat and message m. If they are the same, it means we received the signal correctly. We calculated the symbol error rate to see how our decoding scheme performed."
      ]
    },
    {
      "cell_type": "markdown",
      "metadata": {
        "id": "NWqAsW3BN-qt"
      },
      "source": [
        "# Performance Evaluation"
      ]
    },
    {
      "cell_type": "markdown",
      "metadata": {
        "id": "aNRdkbBGJiAS"
      },
      "source": [
        "We go through all codewords to calculate the symbol error rate and bit error rate."
      ]
    },
    {
      "cell_type": "code",
      "execution_count": 6,
      "metadata": {
        "id": "IKrI7BYeAAot"
      },
      "outputs": [],
      "source": [
        "def calculate_error(m_hat,m):\n",
        "  # type your own code\n",
        "  # compare between m_hat and m to get all the error elements\n",
        "  sym_err = np.sum(np.any(m_hat != m, axis=1))\n",
        "  bit_err = np.sum(m_hat != m)\n",
        "  return sym_err, bit_err"
      ]
    },
    {
      "cell_type": "markdown",
      "metadata": {
        "id": "RFMBbaFGOCDg"
      },
      "source": [
        "# Main Function"
      ]
    },
    {
      "cell_type": "code",
      "execution_count": 10,
      "metadata": {
        "colab": {
          "base_uri": "https://localhost:8080/",
          "height": 789
        },
        "id": "obPI7U5SPJdw",
        "outputId": "41fddb2a-3bca-4a40-c80a-f31e4a4a0f77"
      },
      "outputs": [
        {
          "name": "stdout",
          "output_type": "stream",
          "text": [
            "0 / 7\n",
            "1 / 7\n",
            "2 / 7\n",
            "3 / 7\n",
            "4 / 7\n",
            "5 / 7\n",
            "6 / 7\n",
            "7 / 7\n"
          ]
        },
        {
          "data": {
            "image/png": "[encoded data removed]",
            "text/plain": [
              "<Figure size 432x288 with 1 Axes>"
            ]
          },
          "metadata": {
            "needs_background": "light"
          },
          "output_type": "display_data"
        },
        {
          "name": "stdout",
          "output_type": "stream",
          "text": [
            "Bit Error Rate: [8.05625e-02 5.10625e-02 2.65625e-02 1.53125e-02 4.96250e-03 1.50875e-03\n",
            " 3.70000e-04 5.62500e-05]\n"
          ]
        },
        {
          "data": {
            "image/png": "[encoded data removed]",
            "text/plain": [
              "<Figure size 432x288 with 1 Axes>"
            ]
          },
          "metadata": {
            "needs_background": "light"
          },
          "output_type": "display_data"
        },
        {
          "name": "stdout",
          "output_type": "stream",
          "text": [
            "Block Error Rate: [1.7625e-01 1.1075e-01 5.8000e-02 3.3500e-02 1.1275e-02 3.3550e-03\n",
            " 8.0000e-04 1.3000e-04]\n"
          ]
        }
      ],
      "source": [
        "# SNR setting\n",
        "SNR_start = 0\n",
        "SNR_end = 7\n",
        "step_size = 1\n",
        "SNR = np.arange(SNR_start,SNR_end+1,step_size)\n",
        "length_SNR = len(SNR)\n",
        "BLER = np.zeros(length_SNR)\n",
        "BER = np.zeros(length_SNR)\n",
        "\n",
        "# main\n",
        "for i in range(length_SNR):\n",
        "  fname = \"codeword_file_SNR=\"+str(SNR[i])+\".csv\"\n",
        "\n",
        "  # type your own code (apply the defined function)\n",
        "  # load codeword\n",
        "  y, m, file_size = load_codebook(fname)\n",
        "  \n",
        "  # maximum likelihood decoding\n",
        "  m_hat = ML_decode(y)\n",
        "\n",
        "  # calculate error\n",
        "  sym_err, bit_err = calculate_error(m_hat, m)\n",
        "\n",
        "  BER[i] = bit_err/4/file_size\n",
        "  BLER[i] = sym_err/file_size\n",
        "  print(i,\"/\",len(SNR)-1)\n",
        "# Fig plot\n",
        "BER_uncoded = [0.07721, 0.05723, 0.03774, 0.02324, 0.01186, 0.00549, 0.00246, 0.00077]\n",
        "EbN0dBs = np.arange(start=SNR_start,stop=SNR_end+1,step=step_size)\n",
        "fig1 = plt.figure()\n",
        "plt.semilogy(EbN0dBs,BER,color='r',marker='o',linestyle='-',label='ML Decoding')\n",
        "plt.semilogy(EbN0dBs,BER_uncoded,color='b',marker='x',linestyle='-',label='Uncoded')\n",
        "plt.xlabel('$E_b/N_0(dB)$');plt.ylabel('BER ($P_b$)')\n",
        "plt.title('Probability of bit error over AWGN channel')\n",
        "plt.xlim(SNR_start,SNR_end);plt.grid(True);\n",
        "plt.legend()\n",
        "plt.show()\n",
        "print(\"Bit Error Rate:\", BER)\n",
        "fig2 = plt.figure()\n",
        "plt.semilogy(EbN0dBs,BLER,color='r',marker='o',linestyle='-',label='ML Decoding')\n",
        "plt.xlabel('$E_b/N_0(dB)$');plt.ylabel('BLER ($P_b$)')\n",
        "plt.title('Probability of block error over AWGN channel')\n",
        "plt.xlim(SNR_start,SNR_end);plt.grid(True);\n",
        "plt.legend()\n",
        "plt.show()\n",
        "print(\"Block Error Rate:\", BLER)\n",
        "#print(\"Your name and the date you demo.\")"
      ]
    },
    {
      "cell_type": "code",
      "execution_count": null,
      "metadata": {},
      "outputs": [],
      "source": []
    }
  ],
  "metadata": {
    "colab": {
      "provenance": []
    },
    "kernelspec": {
      "display_name": "Python 3",
      "language": "python",
      "name": "python3"
    },
    "language_info": {
      "codemirror_mode": {
        "name": "ipython",
        "version": 3
      },
      "file_extension": ".py",
      "mimetype": "text/x-python",
      "name": "python",
      "nbconvert_exporter": "python",
      "pygments_lexer": "ipython3",
      "version": "3.10.10"
    },
    "vscode": {
      "interpreter": {
        "hash": "86122193477d46195e29d0a3a92cd4e949aeb5fc0f9ed7061ad702b7cdba52f7"
      }
    }
  },
  "nbformat": 4,
  "nbformat_minor": 0
}
